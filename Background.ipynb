{
 "cells": [
  {
   "cell_type": "markdown",
   "metadata": {},
   "source": [
    "Crimes often concentrate in specific areas or neighborhoods of a city, which, for specific socio-economic factors, may be more conductive to illicit activities. The availability of geo-spatial data allows for computational analysis of such factors and a deeper understanding of patterns that most often associate with increasing crime rates. The purpose of the present project is to assess whether criminal activities correlate with the presence of a specific social pattern, as it can be inferred from the commercial activities on the territory of the city of Toronto."
   ]
  },
  {
   "cell_type": "code",
   "execution_count": null,
   "metadata": {},
   "outputs": [],
   "source": []
  }
 ],
 "metadata": {
  "kernelspec": {
   "display_name": "Python 3",
   "language": "python",
   "name": "python3"
  },
  "language_info": {
   "codemirror_mode": {
    "name": "ipython",
    "version": 3
   },
   "file_extension": ".py",
   "mimetype": "text/x-python",
   "name": "python",
   "nbconvert_exporter": "python",
   "pygments_lexer": "ipython3",
   "version": "3.7.3"
  }
 },
 "nbformat": 4,
 "nbformat_minor": 4
}
