{
 "cells": [
  {
   "cell_type": "markdown",
   "metadata": {},
   "source": [
    "Crime is one of the major concerns for citizen and local administration alike. It is common knowledge that certains areas or neighborhoods of a city may harbor a greater amount of criminal activityCrimes often concentrate in specific areas or neighborhoods of a city, which, for specific socio-economic factors, may be more conductive to illicit activities. The availability of geo-spatial data allows for computational analysis of such factors and a deeper understanding of patterns that most often associate with increasing crime rates. \n",
    "The purpose of the present project is to assess whether criminal activities correlate with the presence of a specific social pattern, as it can be inferred from the commercial activities on the territory of the city of Toronto. In other words, the aim of the project is to investigate the strength of the association between the presence of specific venues and the rate of illegal activities. \n",
    "Such data may be of interest to policy-makers who may have to plan and promote the economic development of neighborhoods or design specific  interventions aiming at decreasing crime rates indirectly by acting on the social fabric of poor or depressed areas. \n",
    "By developing a model or highlighting specific associations, this analysis may help local administration to improve city planning."
   ]
  },
  {
   "cell_type": "markdown",
   "metadata": {},
   "source": [
    "To carry out this analysis, I will rely on geo-spatial data on the city and neighborhoods of Toronto provided by Foursquare and as used in our previous assignments in this course. These data comprise the number and type of commercial activity divided by neighborhood in Toronto.\n",
    "Furthermore I will rely on the crime data provided by the Toronto Police and publicly available online as a csv file at http://data.torontopolice.on.ca/datasets/neighbourhood-crime-rates-boundary-file-/data.\n",
    "These data comprise the number of event classified as Assault, Break and Enter, Auto Theft, Robbery and Homicide during the years 2014-2018. \n",
    "To carry out the project I will investigate what features in the neighborhood (number of stores, restaurant etc) best correlate with the criminal activity, if any and try and assess whether it is possible to predict a relation between the two, using multiple linear and non-linear regression."
   ]
  }
 ],
 "metadata": {
  "kernelspec": {
   "display_name": "Python 3",
   "language": "python",
   "name": "python3"
  },
  "language_info": {
   "codemirror_mode": {
    "name": "ipython",
    "version": 3
   },
   "file_extension": ".py",
   "mimetype": "text/x-python",
   "name": "python",
   "nbconvert_exporter": "python",
   "pygments_lexer": "ipython3",
   "version": "3.7.3"
  }
 },
 "nbformat": 4,
 "nbformat_minor": 4
}
